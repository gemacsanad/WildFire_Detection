{
 "cells": [
  {
   "cell_type": "markdown",
   "id": "65ece203",
   "metadata": {},
   "source": [
    "# Data downloading and saving it to .npy file\n"
   ]
  },
  {
   "cell_type": "markdown",
   "id": "8ebac999",
   "metadata": {},
   "source": [
    "### Imports"
   ]
  },
  {
   "cell_type": "code",
   "execution_count": 1,
   "id": "3c77ee28-6003-4f94-95d5-14f47ab8b712",
   "metadata": {},
   "outputs": [],
   "source": [
    "\n",
    "import os\n",
    "import numpy as np\n",
    "import cv2\n",
    "import tensorflow as tf\n",
    "from tensorflow import keras\n",
    "from kaggle.api.kaggle_api_extended import KaggleApi"
   ]
  },
  {
   "cell_type": "markdown",
   "id": "8ebf6e3d",
   "metadata": {},
   "source": [
    "### Define dataset name and local path for storage"
   ]
  },
  {
   "cell_type": "code",
   "execution_count": 2,
   "id": "ee3bc1bc",
   "metadata": {},
   "outputs": [],
   "source": [
    "DATASET_NAME = \"abdelghaniaaba/wildfire-prediction-dataset\"  # Wildfire Prediction Dataset from Kaggle\n",
    "DATA_PATH = \"./data\"  # Local directory to store dataset\n"
   ]
  },
  {
   "cell_type": "markdown",
   "id": "7361c19c",
   "metadata": {},
   "source": [
    "### Function to download and unzip dataset if not already present"
   ]
  },
  {
   "cell_type": "code",
   "execution_count": 3,
   "id": "94db0833",
   "metadata": {},
   "outputs": [],
   "source": [
    "def download_dataset():\n",
    "    expected_folders = [\"train\", \"test\", \"valid\"]  # Expected data splits\n",
    "\n",
    "    # If all folders already exist, skip downloading\n",
    "    if all(os.path.exists(os.path.join(DATA_PATH, folder)) for folder in expected_folders):\n",
    "        print(\"Dataset already exists. Skipping download.\")\n",
    "        return\n",
    "\n",
    "    # If any folder is missing, download the dataset from Kaggle\n",
    "    print(\"Dataset not found. Downloading now...\")\n",
    "    api = KaggleApi()\n",
    "    api.authenticate()  # Authenticate with Kaggle\n",
    "    os.makedirs(DATA_PATH, exist_ok=True)  # Create data directory if it doesn't exist\n",
    "    api.dataset_download_files(DATASET_NAME, path=DATA_PATH, unzip=True)  # Download and unzip dataset\n"
   ]
  },
  {
   "cell_type": "markdown",
   "id": "acbce7a1",
   "metadata": {},
   "source": [
    "### Function to load image paths and labels from a dataset split (train/test/valid)"
   ]
  },
  {
   "cell_type": "code",
   "execution_count": 4,
   "id": "87201aea",
   "metadata": {},
   "outputs": [],
   "source": [
    "def load_data(split):\n",
    "    data_dir = os.path.join(DATA_PATH, split)  # e.g., ./data/train\n",
    "    X, Y = [], []  # Lists to hold image paths and corresponding labels\n",
    "    failed_paths = []  # Tracks any images that fail to load\n",
    "\n",
    "    # Mapping folder names to label values\n",
    "    categories = {\"nowildfire\": 0, \"wildfire\": 1}\n",
    "\n",
    "    # Loop over categories (nowildfire and wildfire)\n",
    "    for category, label in categories.items():\n",
    "        folder_path = os.path.join(data_dir, category)\n",
    "\n",
    "        if not os.path.exists(folder_path):\n",
    "            print(f\"Warning: Missing category folder {folder_path}, skipping...\")\n",
    "            continue\n",
    "\n",
    "        print(f\"Reading {split} {category} \")\n",
    "        for img_name in os.listdir(folder_path):\n",
    "            img_path = os.path.join(folder_path, img_name)\n",
    "\n",
    "            try:\n",
    "                image = cv2.imread(img_path, cv2.IMREAD_COLOR)  # Read image\n",
    "\n",
    "                if image is None:\n",
    "                    print(f\"Warning: cv2.imread failed for {img_path}, skipping...\")\n",
    "                    failed_paths.append(img_path)\n",
    "                    continue\n",
    "\n",
    "                X.append(img_path)  # Save path (to load/resize later)\n",
    "                Y.append(label)     # Save label (0 or 1)\n",
    "\n",
    "            except Exception as e:\n",
    "                print(f\"Error processing image {img_path}: {e}, skipping...\")\n",
    "                failed_paths.append(img_path)\n",
    "                continue\n",
    "\n",
    "    return X, Y, failed_paths"
   ]
  },
  {
   "cell_type": "markdown",
   "id": "9a54e4e0",
   "metadata": {},
   "source": [
    "### Function to read, resize, normalize images given their paths, and return image arrays and labels"
   ]
  },
  {
   "cell_type": "code",
   "execution_count": 5,
   "id": "576cd03f",
   "metadata": {},
   "outputs": [],
   "source": [
    "def preprocess_data(X_paths, Y, image_size=(128, 128)):\n",
    "    X = []  # Will store resized and normalized image arrays\n",
    "\n",
    "    for img_path in X_paths:\n",
    "        try:\n",
    "            image = cv2.imread(img_path, cv2.IMREAD_COLOR)  # Read image from path\n",
    "            if image is None:\n",
    "                continue\n",
    "            image = cv2.resize(image, image_size)  # Resize to target size\n",
    "            image = image / 255.0  # Normalize pixel values to [0, 1]\n",
    "            X.append(image)\n",
    "        except Exception as e:\n",
    "            print(f\"Error preprocessing {img_path}: {e}, skipping...\")\n",
    "            continue\n",
    "\n",
    "    X = np.array(X, dtype=np.float32)  # Convert to numpy array of floats\n",
    "    Y = np.array(Y, dtype=np.int32)    # Convert labels to numpy array of ints\n",
    "    return X, Y"
   ]
  },
  {
   "cell_type": "markdown",
   "id": "a2d186d6",
   "metadata": {},
   "source": [
    "### Function to apply random augmentations to an image "
   ]
  },
  {
   "cell_type": "code",
   "execution_count": 6,
   "id": "283d17aa",
   "metadata": {},
   "outputs": [],
   "source": [
    "def augment_image(image):\n",
    "    image = tf.image.random_flip_left_right(image)  # Random horizontal flip\n",
    "    image = tf.image.rot90(image, k=np.random.randint(0, 4))  # Random 90-degree rotation\n",
    "    image = tf.image.random_crop(image, size=[100, 100, 3])  # Random crop\n",
    "    image = tf.image.random_brightness(image, max_delta=0.2)  # Adjust brightness\n",
    "    image = tf.image.random_contrast(image, lower=0.8, upper=1.2)  # Adjust contrast\n",
    "    return image\n"
   ]
  },
  {
   "cell_type": "code",
   "execution_count": 7,
   "id": "558c3569",
   "metadata": {},
   "outputs": [
    {
     "name": "stdout",
     "output_type": "stream",
     "text": [
      "Dataset already exists. Skipping download.\n",
      "Reading train nowildfire \n"
     ]
    },
    {
     "name": "stderr",
     "output_type": "stream",
     "text": [
      "Premature end of JPEG file\n"
     ]
    },
    {
     "name": "stdout",
     "output_type": "stream",
     "text": [
      "Reading train wildfire \n"
     ]
    },
    {
     "name": "stderr",
     "output_type": "stream",
     "text": [
      "Premature end of JPEG file\n"
     ]
    },
    {
     "name": "stdout",
     "output_type": "stream",
     "text": [
      "Reading test nowildfire \n",
      "Reading test wildfire \n"
     ]
    },
    {
     "name": "stderr",
     "output_type": "stream",
     "text": [
      "Premature end of JPEG file\n",
      "Premature end of JPEG file\n"
     ]
    },
    {
     "name": "stdout",
     "output_type": "stream",
     "text": [
      "Reading valid nowildfire \n",
      "Reading valid wildfire \n"
     ]
    }
   ],
   "source": [
    "# Download dataset if needed\n",
    "download_dataset()\n",
    "\n",
    "# Load and preprocess training data\n",
    "X_train_paths, Y_train, failed_train_paths = load_data(\"train\")\n",
    "X_train, Y_train = preprocess_data(X_train_paths, Y_train)\n",
    "\n",
    "# Load and preprocess testing data\n",
    "X_test_paths, Y_test, failed_test_paths = load_data(\"test\")\n",
    "X_test, Y_test = preprocess_data(X_test_paths, Y_test)\n",
    "\n",
    "# Load and preprocess validation data\n",
    "X_valid_paths, Y_valid, failed_valid_paths = load_data(\"valid\")\n",
    "X_valid, Y_valid = preprocess_data(X_valid_paths, Y_valid)\n",
    "\n",
    "# Apply data augmentation to each dataset (converts to numpy arrays)\n",
    "X_train_augmented = np.array([augment_image(img).numpy() for img in X_train])\n",
    "X_test_augmented = np.array([augment_image(img).numpy() for img in X_test])\n",
    "X_valid_augmented = np.array([augment_image(img).numpy() for img in X_valid])"
   ]
  },
  {
   "cell_type": "markdown",
   "id": "b9439b3b",
   "metadata": {},
   "source": [
    "### Save preprocessed datasets as .npy files"
   ]
  },
  {
   "cell_type": "code",
   "execution_count": 8,
   "id": "1e4f97ce",
   "metadata": {},
   "outputs": [
    {
     "name": "stdout",
     "output_type": "stream",
     "text": [
      " Data preparation complete. X and Y matrices saved.\n"
     ]
    }
   ],
   "source": [
    "np.save(os.path.join(DATA_PATH, \"X_train.npy\"), X_train)\n",
    "np.save(os.path.join(DATA_PATH, \"Y_train.npy\"), Y_train)\n",
    "np.save(os.path.join(DATA_PATH, \"X_test.npy\"), X_test)\n",
    "np.save(os.path.join(DATA_PATH, \"Y_test.npy\"), Y_test)\n",
    "np.save(os.path.join(DATA_PATH, \"X_valid.npy\"), X_valid)\n",
    "np.save(os.path.join(DATA_PATH, \"Y_valid.npy\"), Y_valid)\n",
    "\n",
    "print(\" Data preparation complete. X and Y matrices saved.\")\n"
   ]
  },
  {
   "cell_type": "markdown",
   "id": "6a0d7cb3",
   "metadata": {},
   "source": [
    "### Report and optionally delete paths of any failed images"
   ]
  },
  {
   "cell_type": "code",
   "execution_count": 9,
   "id": "3daa715d",
   "metadata": {},
   "outputs": [
    {
     "name": "stdout",
     "output_type": "stream",
     "text": [
      "\n",
      "--- Failed Image Paths ---\n",
      "No images failed to process.\n"
     ]
    }
   ],
   "source": [
    "print(\"\\n--- Failed Image Paths ---\")\n",
    "all_failed_paths = failed_train_paths + failed_test_paths + failed_valid_paths\n",
    "if all_failed_paths:\n",
    "    for path in all_failed_paths:\n",
    "        try:\n",
    "            os.remove(path)\n",
    "            print(f\"Deleted: {path}\")\n",
    "        except OSError as e:\n",
    "            print(f\"Error deleting {path}: {e}\")\n",
    "else:\n",
    "    print(\"No images failed to process.\")"
   ]
  }
 ],
 "metadata": {
  "kernelspec": {
   "display_name": "Python 3 (ipykernel)",
   "language": "python",
   "name": "python3"
  },
  "language_info": {
   "codemirror_mode": {
    "name": "ipython",
    "version": 3
   },
   "file_extension": ".py",
   "mimetype": "text/x-python",
   "name": "python",
   "nbconvert_exporter": "python",
   "pygments_lexer": "ipython3",
   "version": "3.10.16"
  }
 },
 "nbformat": 4,
 "nbformat_minor": 5
}
